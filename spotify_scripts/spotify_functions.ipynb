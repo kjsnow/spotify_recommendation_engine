{
 "cells": [
  {
   "cell_type": "code",
   "execution_count": 1,
   "metadata": {
    "collapsed": true
   },
   "outputs": [],
   "source": [
    "import sys\n",
    "from spotipy.oauth2 import SpotifyClientCredentials\n",
    "import spotipy\n",
    "import spotipy.util as util\n",
    "import pprint\n",
    "import plotly.plotly as py\n",
    "import plotly.graph_objs as go\n",
    "import plotly\n",
    "import matplotlib\n",
    "from operator import itemgetter"
   ]
  },
  {
   "cell_type": "code",
   "execution_count": 2,
   "metadata": {
    "collapsed": true
   },
   "outputs": [],
   "source": [
    "# plotly api key\n",
    "plotly.tools.set_credentials_file(username='kjsnow11', api_key='CdXOsPqwq2G3aMCiHpjJ')\n",
    "\n",
    "# spotify creds\n",
    "client_id = '2d0cc7a4ed9d44a69c9ad358b216dd7e'\n",
    "client_secret = 'bc85301ff7114dca9f2a195804b16ddc'"
   ]
  },
  {
   "cell_type": "code",
   "execution_count": 3,
   "metadata": {
    "collapsed": true
   },
   "outputs": [],
   "source": [
    "# create spotify object\n",
    "client_credentials_manager = SpotifyClientCredentials(client_id=client_id, client_secret=client_secret)\n",
    "sp = spotipy.Spotify(client_credentials_manager=client_credentials_manager)"
   ]
  },
  {
   "cell_type": "code",
   "execution_count": 4,
   "metadata": {
    "collapsed": true
   },
   "outputs": [],
   "source": [
    "# Search functions\n",
    "\n",
    "# Generic search function, valid search_types = [album , artist, playlist, track]\n",
    "def get_search_uri(search_term, search_type):\n",
    "    result = sp.search(search_term, type=search_type, limit=1)\n",
    "    return result[search_type+'s']['items'][0]['id']\n",
    "\n",
    "# Only supports artists\n",
    "def get_artist_uri(artist_search):\n",
    "    result = sp.search(artist_search, type='artist', limit=1)\n",
    "    return result['artists']['items'][0]['id']\n",
    "\n",
    "# Only supports tracks\n",
    "def get_track_uri(song_search):\n",
    "    result = sp.search(song_search, type='track', limit=1)\n",
    "    return result['tracks']['items'][0]['id']\n",
    "\n",
    "# Search by track and artist (to help avoid conflicts)\n",
    "def get_track_artist_uri(track, artist):\n",
    "    qry = \"artist:{0} track:{1}\".format(artist, track)\n",
    "    result = sp.search(qry, type='track', limit=1)\n",
    "    return result['tracks']['items'][0]['id']\n",
    "\n",
    "# Only supports albums\n",
    "def get_album_uri(album_search):\n",
    "    result = sp.search(album_search, type='album', limit=1)\n",
    "    return result['albums']['items'][0]['id']\n",
    "\n",
    "# Only supporst playlists\n",
    "def get_playlist_uri(playlist_search):\n",
    "    result = sp.search(playlist_search, type='playlist', limit=1)\n",
    "    return result['playlists']['items'][0]['id']\n",
    "\n",
    "# Return Song title from URI\n",
    "def get_song_title(song_uri):\n",
    "    result = sp.search()"
   ]
  },
  {
   "cell_type": "code",
   "execution_count": 89,
   "metadata": {
    "collapsed": true
   },
   "outputs": [],
   "source": [
    "# IMPROVEMENTS\n",
    "# Error handling (no results returned)\n",
    "# Multiple results? (limit = 1 right now)\n",
    "# How to better generalize search functions?"
   ]
  },
  {
   "cell_type": "code",
   "execution_count": 5,
   "metadata": {
    "collapsed": true
   },
   "outputs": [],
   "source": [
    "# Get key track features based \n",
    "def get_track_key_features(track_uri):\n",
    "    # Neglecting to return type, uri, track_href, analysis_url. Not needed for analysis\n",
    "    features_of_interest = [\n",
    "                        'id',\n",
    "                        'acousticness', \n",
    "                        'danceability', \n",
    "                        'duration_ms', \n",
    "                        'energy', \n",
    "                        'instrumentalness',\n",
    "                        'key',  \n",
    "                        'liveness',\n",
    "                        'loudness',\n",
    "                        'mode',\n",
    "                        'speechiness',\n",
    "                        'tempo',\n",
    "                        'time_signature',\n",
    "                        'valence']\n",
    "    track_audio_features = sp.audio_features(track_uri)\n",
    "    return {k : track_audio_features[0][k] for k in features_of_interest}"
   ]
  },
  {
   "cell_type": "code",
   "execution_count": 25,
   "metadata": {},
   "outputs": [],
   "source": [
    "def get_sorted_track_list_by_feature_of_interest(track_to_be_compared_key_features, feature_of_interest, artist_to_compare):\n",
    "    \n",
    "    artist_to_compare_uri = get_search_uri(search_term=artist_to_compare, search_type='artist')\n",
    "    artist_to_compare_top_tracks = sp.artist_top_tracks(artist_to_compare_uri)\n",
    "    artist_to_compare_top_track_uri_list = [t['id'] for t in artist_to_compare_top_tracks['tracks']]\n",
    "    \n",
    "    # Build list of dictionaries with name, id, features\n",
    "    artist_to_compare_track_dict = []\n",
    "    for track in artist_to_compare_top_tracks['tracks']:\n",
    "        track_to_add = {\n",
    "            \"name\":     track['name'],\n",
    "            \"id\":       track['id'],\n",
    "            \"features\": get_track_key_features(track['uri']),\n",
    "        }\n",
    "        artist_to_compare_track_dict.append(track_to_add)\n",
    "        \n",
    "    # Calculate difference of feature of interest\n",
    "    #diff_of_feature_of_interest = [abs(track[feature_of_interest] \n",
    "    #- track_to_be_compared_key_features[feature_of_interest]) for track in track_to_be_compared_key_features]\n",
    "\n",
    "    artist_to_compare_track_dict = [dict(track, diff_of_feature_of_interest = abs(track['features'][feature_of_interest] - track_to_be_compared_key_features[feature_of_interest])) for track in artist_to_compare_track_dict]\n",
    "    \n",
    "    #[dict(track, diff_of_feature_of_interest=\n",
    "                                    #abs(track['features'][feature_of_interest] - track_key_features[feature_of_interest])) for track in track_dict]\n",
    "    \n",
    "    # Another way to sort Dictionary by key value (but not using difference function!)\n",
    "    \n",
    "    #print(sorted(track_dict, key=itemgetter(diff_in_acousticness))) \n",
    "    sorted_artist_to_compare_track_dict = sorted(artist_to_compare_track_dict, key=itemgetter('diff_of_feature_of_interest'))\n",
    "    \n",
    "    return sorted_artist_to_compare_track_dict\n",
    "\n",
    "def print_sorted_songs(sorted_artist_to_compare_track_dict):\n",
    "    for track in sorted_artist_to_compare_track_dict:\n",
    "        print(track['name'])\n"
   ]
  },
  {
   "cell_type": "code",
   "execution_count": 66,
   "metadata": {},
   "outputs": [],
   "source": [
    "# Get URI of track\n",
    "track = 'Sixty Years On- Live'\n",
    "artist = 'Brandi Carlile'\n",
    "\n",
    "# Value to compare from original track\n",
    "feature_of_interest = 'valence'\n",
    "\n",
    "artist_to_compare = 'Fleetwood Mac'\n"
   ]
  },
  {
   "cell_type": "code",
   "execution_count": 38,
   "metadata": {},
   "outputs": [],
   "source": [
    "# Get song URI\n",
    "track_uri = get_track_artist_uri(track, artist)\n",
    "# Get key track audio features\n",
    "track_key_features = get_track_key_features(track_uri)\n",
    "\n",
    "# Get track audio analysis (not used atm)\n",
    "track_audio_analysis = sp.audio_analysis(track_uri)"
   ]
  },
  {
   "cell_type": "code",
   "execution_count": 53,
   "metadata": {},
   "outputs": [
    {
     "data": {
      "text/plain": [
       "{'acousticness': 0.906,\n",
       " 'danceability': 0.443,\n",
       " 'duration_ms': 223980,\n",
       " 'energy': 0.117,\n",
       " 'id': '3OZW7SSM5DzQmeq8WZBVek',\n",
       " 'instrumentalness': 0,\n",
       " 'key': 2,\n",
       " 'liveness': 0.705,\n",
       " 'loudness': -14.124,\n",
       " 'mode': 0,\n",
       " 'speechiness': 0.0402,\n",
       " 'tempo': 136.589,\n",
       " 'time_signature': 3,\n",
       " 'valence': 0.105}"
      ]
     },
     "execution_count": 53,
     "metadata": {},
     "output_type": "execute_result"
    }
   ],
   "source": [
    "track_key_features"
   ]
  },
  {
   "cell_type": "code",
   "execution_count": 67,
   "metadata": {},
   "outputs": [],
   "source": [
    "sorted_artist_to_compare_track_dict = get_sorted_track_list_by_feature_of_interest(track_to_be_compared_key_features=track_key_features, feature_of_interest=feature_of_interest, artist_to_compare=artist_to_compare)"
   ]
  },
  {
   "cell_type": "code",
   "execution_count": 68,
   "metadata": {},
   "outputs": [
    {
     "name": "stdout",
     "output_type": "stream",
     "text": [
      "Landslide\n",
      "The Chain - 2004 Remaster\n",
      "Everywhere - 2017 Remaster\n",
      "Dreams - 2004 Remaster\n",
      "Rhiannon\n",
      "Don't Stop - 2004 Remaster\n",
      "Go Your Own Way - 2004 Remaster\n",
      "Gypsy\n",
      "Little Lies - 2017 Remaster\n",
      "Never Going Back Again - 2004 Remaster\n"
     ]
    }
   ],
   "source": [
    "# Print song names\n",
    "print_sorted_songs(sorted_artist_to_compare_track_dict)"
   ]
  },
  {
   "cell_type": "code",
   "execution_count": null,
   "metadata": {
    "collapsed": true
   },
   "outputs": [],
   "source": [
    "# Loop over all key features\n",
    "#... rank all songs overall"
   ]
  }
 ],
 "metadata": {
  "kernelspec": {
   "display_name": "Python 3",
   "language": "python",
   "name": "python3"
  },
  "language_info": {
   "codemirror_mode": {
    "name": "ipython",
    "version": 3
   },
   "file_extension": ".py",
   "mimetype": "text/x-python",
   "name": "python",
   "nbconvert_exporter": "python",
   "pygments_lexer": "ipython3",
   "version": "3.6.2"
  }
 },
 "nbformat": 4,
 "nbformat_minor": 2
}
